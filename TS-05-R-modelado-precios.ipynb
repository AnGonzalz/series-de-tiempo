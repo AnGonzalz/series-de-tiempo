{
 "cells": [
  {
   "cell_type": "markdown",
   "metadata": {},
   "source": [
    "# Series de Tiempo -- R -- Modelos estocásticos precios\n",
    "Notas de clase sobre pronóstico de series de tiempo usando R"
   ]
  },
  {
   "cell_type": "markdown",
   "metadata": {},
   "source": [
    "**Juan David Velásquez Henao**   \n",
    "jdvelasq@unal.edu.co  \n",
    "Universidad Nacional de Colombia, Sede Medellín  \n",
    "Facultad de Minas  \n",
    "Medellín, Colombia  \n",
    "\n",
    "[Licencia]\n",
    "\n",
    "[Readme]"
   ]
  },
  {
   "cell_type": "markdown",
   "metadata": {},
   "source": [
    "**Software utilizado**.\n",
    "\n",
    "> Este es un documento interactivo escrito como un notebook de [Jupyter](http://jupyter.org), en el cual se presenta un tutorial modelado de precios usando **R** en el contexto de la analítica. Los notebooks de Jupyter permiten incoporar simultáneamente código, texto, gráficos y ecuaciones. El código presentado en este notebook puede ejecutarse en los sistemas operativos Linux y OS X.\n",
    "\n",
    "> Haga click [aquí](https://github.com/jdvelasq/guias-de-instalacion) para obtener instrucciones detalladas sobre como instalar Jupyter en Windows y Mac OS X.\n",
    "\n",
    "> Haga clic [aquí] para ver la última versión de este documento en nbviewer.\n",
    "\n",
    "> Descargue la última versión de este documento a su disco duro; luego, carguelo y ejecutelo en línea en [Try Jupyter!](https://try.jupyter.org)\n",
    "\n",
    "> Haga clic [aquí](https://github.com/jdvelasq/ETVL-R/blob/master/ETVL-R-5-visualizacion-1-base.ipynb) para ver el tutorial de visualización y gráficas."
   ]
  },
  {
   "cell_type": "markdown",
   "metadata": {},
   "source": [
    "#### Contenido"
   ]
  },
  {
   "cell_type": "markdown",
   "metadata": {},
   "source": [
    "> \n",
    "* [Introducción](#Introducción)\n",
    "* [Ruido blanco](#Ruido-blanco)\n",
    "* [Medidas de cambio en el precio de un activo.](#Medidas-de-cambio-en-el-precio-de-un-activo.)\n",
    "* [Modelos de paseo aleatorio](#Modelos-de-paseo-aleatorio)\n",
    "    * [Modelo de paseo aleatorio con estados discretos](#Modelo-de-paseo-aleatorio-con-estados-discretos)\n",
    "    * [Paseo aleatorio continuo](#Paseo-aleatorio-continuo)\n",
    "    * [Proceso Browniano con deriva o proceso de Wiener](#Proceso-Browniano-con-deriva-o-proceso-de-Wiener)\n",
    "    * [Proceso Browniano estándar](#Proceso-Browniano-estándar)\n",
    "    * [Proceso Browniano con tendencia](#Proceso-Browniano-con-tendencia)\n",
    "    * [Proceso Browniano geométrico o exponencial](#Proceso-Browniano-geométrico-o-exponencial)\n",
    "    * [Proceso de Orstein-Uhlenbeck o reversión a la media](#Proceso-de-Orstein-Uhlenbeck-o-reversión-a-la-media)\n",
    "* [Modelos de precios](#Modelos-de-precios)\n",
    "    * [Representación general](#Representación-general)\n",
    "        * [Prueba ACF y PACF serie con tendencia](#Prueba-ACF-y-PACF-serie-con-tendencia)\n",
    "        * [Prueba ACF y PACF serie con tendencia y ciclo](#Prueba-ACF-y-PACF-serie-con-tendencia-y-ciclo)\n",
    "        * [Prueba ACF y PACF de un proceso autorregresivo](#Prueba-ACF-y-PACF-de-un-proceso-autorregresivo)\n",
    "        * [Prueba ACF y PACF de un proceso de medias moviles](#Prueba-ACF-y-PACF-de-un-proceso-de-medias-moviles)\n",
    "    * [Proceso Browniano con tendencia](#Proceso-Browniano-con-tendencia)\n",
    "    * [Genereación de la serie sintética](#Genereación-de-la-serie-sintética)"
   ]
  },
  {
   "cell_type": "markdown",
   "metadata": {},
   "source": [
    "**Bibliografía**.\n",
    "\n",
    "> [Bibliografia aquí] ()\n",
    "\n",
    "---"
   ]
  },
  {
   "cell_type": "markdown",
   "metadata": {},
   "source": [
    "# Introducción"
   ]
  },
  {
   "cell_type": "markdown",
   "metadata": {},
   "source": [
    "[Contenido](#Contenido)"
   ]
  },
  {
   "cell_type": "markdown",
   "metadata": {},
   "source": [
    "En este libro se introducen los principales modelos estocásticos de precios, los cuales tienen diferentes aplicaciones, tal como la valoración de derivados financieros."
   ]
  },
  {
   "cell_type": "markdown",
   "metadata": {},
   "source": [
    "# Ruido blanco"
   ]
  },
  {
   "cell_type": "markdown",
   "metadata": {},
   "source": [
    "[Contenido](#Contenido)"
   ]
  },
  {
   "cell_type": "markdown",
   "metadata": {},
   "source": [
    "Ruido blanco es un tipo básico de series de tiempo muy importante, donde las variables aleatorias que se generan tienen una media de 0, varianza finita e identica, adicionalmente las variables aleatorias no están correlacionadas entre sí. En algunas fuentes bibliograficas especifican que estas variables son independiente e identicamente distribuidas $iid$. \n"
   ]
  },
  {
   "cell_type": "code",
   "execution_count": 1,
   "metadata": {
    "collapsed": true
   },
   "outputs": [],
   "source": [
    "## Generación serie tipo ruido blanco\n",
    "set.seed(1)         # Semilla (omitir)\n",
    "\n",
    "x <- rnorm(100)     # 100 datos iid x~N(0,σ^2)"
   ]
  },
  {
   "cell_type": "code",
   "execution_count": 2,
   "metadata": {
    "collapsed": false
   },
   "outputs": [
    {
     "data": {
      "image/png": "[encoded data removed]",
      "text/plain": [
       "Plot with title \"Series  x\""
      ]
     },
     "metadata": {},
     "output_type": "display_data"
    }
   ],
   "source": [
    "## ACF serie tipo ruido blanco\n",
    "\n",
    "options(repr.plot.width=8, repr.plot.height=4)\n",
    "\n",
    "acf(x,              # Serie\n",
    "    ylim=c(-1,1))   # Limite ejer y"
   ]
  },
  {
   "cell_type": "code",
   "execution_count": 3,
   "metadata": {
    "collapsed": false
   },
   "outputs": [
    {
     "data": {
      "image/png": "[encoded data removed]",
      "text/plain": [
       "Plot with title \"Series  x\""
      ]
     },
     "metadata": {},
     "output_type": "display_data"
    }
   ],
   "source": [
    "## PACF serie tipo ruido blanco\n",
    "\n",
    "options(repr.plot.width=8, repr.plot.height=4)\n",
    "\n",
    "pacf(x,             # Serie\n",
    "     ylim=c(-1,1))  # Limites eje y "
   ]
  },
  {
   "cell_type": "markdown",
   "metadata": {},
   "source": [
    "# Medidas de cambio en el precio de un activo."
   ]
  },
  {
   "cell_type": "markdown",
   "metadata": {},
   "source": [
    "[Contenido](#Contenido)"
   ]
  },
  {
   "cell_type": "markdown",
   "metadata": {},
   "source": [
    "* Cambio Absoluto ${(D_t)}$ : $D_t = P_t - P_{t-1}$"
   ]
  },
  {
   "cell_type": "markdown",
   "metadata": {},
   "source": [
    "* Rentabilidad bruta simple: $1+ R_t = P_t / P_{t-1}$"
   ]
  },
  {
   "cell_type": "markdown",
   "metadata": {},
   "source": [
    "* Rentabilidad neta simple: $R_t = (P_t - P_{t-1}) / P_{t-1} = (P_t/P_{t-1}) - 1 $"
   ]
  },
  {
   "cell_type": "markdown",
   "metadata": {},
   "source": [
    "* Rentabilidad logarítmica: $r_t = \\log (P_t / P_{t-1}) = log(1+R_t)$"
   ]
  },
  {
   "cell_type": "code",
   "execution_count": 5,
   "metadata": {
    "collapsed": false
   },
   "outputs": [],
   "source": [
    "## calculo de cambio absoluto sobre la TRM\n",
    "trm <- read.table(\"data/trm.dat\", dec=\",\")$V1                      # lectura TRM\n",
    "Dt  <- c(NaN, diff(trm))                                           # cambio absoluto\n",
    "rt  <- c(NaN, log(trm[2:length(trm)] / trm[1:(length(trm) - 1)] )) # rentabilidad logaritmica      "
   ]
  },
  {
   "cell_type": "code",
   "execution_count": 6,
   "metadata": {
    "collapsed": false,
    "scrolled": false
   },
   "outputs": [
    {
     "data": {
      "image/png": "[encoded data removed]",
      "text/plain": [
       "plot without title"
      ]
     },
     "metadata": {},
     "output_type": "display_data"
    }
   ],
   "source": [
    "## graficas\n",
    "options(repr.plot.width=8, repr.plot.height=7)\n",
    "par(mfrow=c(3,1))\n",
    "\n",
    "plot.ts( trm,  ylab = 'TRM', bty = 'n' );            grid()\n",
    "plot.ts( Dt,   ylab = 'Dt',  bty = 'n', col=\"blue\"); grid()\n",
    "plot.ts( rt,   ylab = 'rt',  bty = 'n', col=\"red\");  grid()"
   ]
  },
  {
   "cell_type": "markdown",
   "metadata": {},
   "source": [
    "---"
   ]
  },
  {
   "cell_type": "markdown",
   "metadata": {},
   "source": [
    "**Ejercicio.--** Calcule la rentabilidad bruta simple de la trm y grafíquela."
   ]
  },
  {
   "cell_type": "code",
   "execution_count": null,
   "metadata": {
    "collapsed": true
   },
   "outputs": [],
   "source": []
  },
  {
   "cell_type": "markdown",
   "metadata": {
    "collapsed": true
   },
   "source": [
    "---"
   ]
  },
  {
   "cell_type": "markdown",
   "metadata": {},
   "source": [
    "El análisis de la distribución de probabilidades de los rendimientos es fundamental en el modelado de precios: "
   ]
  },
  {
   "cell_type": "markdown",
   "metadata": {},
   "source": [
    "* Describe la probabilidad de que un rendimiento tome un valor determinado."
   ]
  },
  {
   "cell_type": "markdown",
   "metadata": {},
   "source": [
    "* Crea un punto de referencia del comportamiento de un mercado."
   ]
  },
  {
   "cell_type": "markdown",
   "metadata": {},
   "source": [
    "* Permite evaluar modelos de precios contra el punto de referencia."
   ]
  },
  {
   "cell_type": "markdown",
   "metadata": {},
   "source": [
    "* Permite comparar modelos."
   ]
  },
  {
   "cell_type": "markdown",
   "metadata": {},
   "source": [
    "# Modelos de paseo aleatorio"
   ]
  },
  {
   "cell_type": "markdown",
   "metadata": {},
   "source": [
    "[Contenido](#Contenido)"
   ]
  },
  {
   "cell_type": "markdown",
   "metadata": {},
   "source": [
    "## Modelo de paseo aleatorio con estados discretos"
   ]
  },
  {
   "cell_type": "markdown",
   "metadata": {},
   "source": [
    "[Contenido](#Contenido)"
   ]
  },
  {
   "cell_type": "markdown",
   "metadata": {},
   "source": [
    "Sea $n$ la cantidad de pasos dados por una partícula en una unidad de tiempo y $v_n$ la distancia total recorrida. Cada paso tiene una longitud $\\delta$ y probabilidades $p$ y $q$ (con $p$ + $q$ = 1) de que sea positivo (hacia arriba) o negativo respectivamente. "
   ]
  },
  {
   "cell_type": "markdown",
   "metadata": {},
   "source": [
    "<img src=\"images/paseo-aleatorio.jpg\" width=500>"
   ]
  },
  {
   "cell_type": "markdown",
   "metadata": {},
   "source": [
    "La distancia recorrida por la partícula en una unidad de tiempo será:\n",
    "\n",
    "$$\\mu = E[v_n] = n~(p-q)~\\delta$$\n",
    "\n",
    "y la varianza:\n",
    "\n",
    "$$\\sigma^2=V[v_n] = 4~npq~\\delta^2$$"
   ]
  },
  {
   "cell_type": "markdown",
   "metadata": {},
   "source": [
    "Por el Teorema del Límite Central, si $u$ = $v_n$, entonces $u$ tiende a una distribución normal con media $\\mu$ y varianza $\\sigma^2$.   "
   ]
  },
  {
   "cell_type": "markdown",
   "metadata": {},
   "source": [
    "## Paseo aleatorio continuo"
   ]
  },
  {
   "cell_type": "markdown",
   "metadata": {},
   "source": [
    "[Contenido](#Contenido)"
   ]
  },
  {
   "cell_type": "markdown",
   "metadata": {},
   "source": [
    "Si: \n",
    "* $F$ es una distribución cualquiera con media $\\mu$ y varianza $\\sigma^2$.\n",
    "* $u_i$ es un valor muestral obtenido de $F$.\n",
    "* $x_0$ es un punto inicial arbitrario.\n",
    "\n",
    "entonces la secuencia $x_0, ~x_1, ...$ es un paseo aleatorio con pasos $u_i$. En este caso, $x_t = x_0 + u_1 + ...+ u_t$."
   ]
  },
  {
   "cell_type": "markdown",
   "metadata": {},
   "source": [
    "En este caso:\n",
    "* $\\mu$ es la deriva (drift).\n",
    "* $\\sigma$ es la volatilidad (desviación estándar).\n",
    "\n",
    "$$E(x_t|x_0) = x_0 + \\mu~t$$\n",
    "\n",
    "$$V(x_t|x_0) = \\sigma^2~t$$\n",
    "\n",
    "$$(x_t | x_0) \\sim N(x_0+\\mu~t, \\sigma^2~t)$$"
   ]
  },
  {
   "cell_type": "markdown",
   "metadata": {},
   "source": [
    "## Proceso Browniano con deriva o proceso de Wiener"
   ]
  },
  {
   "cell_type": "markdown",
   "metadata": {},
   "source": [
    "[Contenido](#Contenido)"
   ]
  },
  {
   "cell_type": "markdown",
   "metadata": {},
   "source": [
    "Se define cuando en la secuencia $x_0,~x_1,~x_2,...$:\n",
    "\n",
    "$$x_t - x_{t-1} \\sim N(\\mu, \\sigma^2)$$"
   ]
  },
  {
   "cell_type": "markdown",
   "metadata": {},
   "source": [
    "## Proceso Browniano estándar"
   ]
  },
  {
   "cell_type": "markdown",
   "metadata": {},
   "source": [
    "[Contenido](#Contenido)"
   ]
  },
  {
   "cell_type": "markdown",
   "metadata": {},
   "source": [
    "Es un proceso de Wiener con $\\mu = 0$ y $\\sigma = 1$. En este caso:\n",
    "\n",
    "$$x_t = x_{t-1} + \\sigma ~ z_t$$\n",
    "\n",
    "y $z_t$ sigue una distribución normal estandar."
   ]
  },
  {
   "cell_type": "markdown",
   "metadata": {},
   "source": [
    "## Proceso Browniano con tendencia"
   ]
  },
  {
   "cell_type": "markdown",
   "metadata": {},
   "source": [
    "[Contenido](#Contenido)"
   ]
  },
  {
   "cell_type": "markdown",
   "metadata": {},
   "source": [
    "En este caso:\n",
    "\n",
    "$$x_t = x_0 + \\mu~t+\\sigma~z_t$$"
   ]
  },
  {
   "cell_type": "markdown",
   "metadata": {},
   "source": [
    "---"
   ]
  },
  {
   "cell_type": "markdown",
   "metadata": {},
   "source": [
    "**Ejercicio.--** Genere 200 puntos de la serie $x_t$ si $\\mu=0.017$ y $\\sigma = 0.28$ y grafiquela. Suponga que el último valor conocido es $x_{100}$; pronostique los 100 valores siguientes y grafiquelos en la figura anterior, y adicione los intervalos de confianza para una desviación estándar."
   ]
  },
  {
   "cell_type": "code",
   "execution_count": null,
   "metadata": {
    "collapsed": true
   },
   "outputs": [],
   "source": []
  },
  {
   "cell_type": "markdown",
   "metadata": {},
   "source": [
    "---"
   ]
  },
  {
   "cell_type": "markdown",
   "metadata": {},
   "source": [
    "## Proceso Browniano geométrico o exponencial"
   ]
  },
  {
   "cell_type": "markdown",
   "metadata": {},
   "source": [
    "[Contenido](#Contenido)"
   ]
  },
  {
   "cell_type": "markdown",
   "metadata": {},
   "source": [
    "$$x_t = x_0 \\exp \\Bigg[ \\Big( \\mu - 0.5 \\sigma^2 \\Big)~t~+~\\sigma~z_t \\Bigg]$$"
   ]
  },
  {
   "cell_type": "markdown",
   "metadata": {},
   "source": [
    "## Proceso de Orstein-Uhlenbeck o reversión a la media"
   ]
  },
  {
   "cell_type": "markdown",
   "metadata": {},
   "source": [
    "[Contenido](#Contenido)"
   ]
  },
  {
   "cell_type": "markdown",
   "metadata": {},
   "source": [
    "$$x_t = \\theta_0 + \\theta_1~x_{t-1} + \\sigma~z_t$$ "
   ]
  },
  {
   "cell_type": "markdown",
   "metadata": {},
   "source": [
    "# Modelos de precios"
   ]
  },
  {
   "cell_type": "markdown",
   "metadata": {},
   "source": [
    "[Contenido](#Contenido)"
   ]
  },
  {
   "cell_type": "markdown",
   "metadata": {},
   "source": [
    "## Representación general"
   ]
  },
  {
   "cell_type": "markdown",
   "metadata": {},
   "source": [
    "[Contenido](#Contenido)"
   ]
  },
  {
   "cell_type": "markdown",
   "metadata": {},
   "source": [
    "Existen componentes deterministicas en la estructura de los precios:\n",
    "\n",
    "$$P_t = f(t)+ x_t  ~~\\text{o}~~ x_t = P_t - f(t)$$"
   ]
  },
  {
   "cell_type": "markdown",
   "metadata": {},
   "source": [
    "donde:"
   ]
  },
  {
   "cell_type": "markdown",
   "metadata": {},
   "source": [
    "* $P_t$ es el precio; puede ser reemplazado por $p_t = \\log(P_t)$."
   ]
  },
  {
   "cell_type": "markdown",
   "metadata": {},
   "source": [
    "* $f(t)$ es la componente determinística que incluye tendencia, ciclos de largo plazo, efectos calendario, etc."
   ]
  },
  {
   "cell_type": "markdown",
   "metadata": {},
   "source": [
    "* $x_t$ es un proceso estocástico continuo"
   ]
  },
  {
   "cell_type": "markdown",
   "metadata": {},
   "source": [
    "### Prueba ACF y PACF serie con tendencia"
   ]
  },
  {
   "cell_type": "markdown",
   "metadata": {},
   "source": [
    "[Contenido](#Contenido)"
   ]
  },
  {
   "cell_type": "code",
   "execution_count": null,
   "metadata": {
    "collapsed": true
   },
   "outputs": [],
   "source": [
    "## Serie con tendencia\n",
    "\n",
    "x <- c( 29.22, 30.96, 32.57, 35.73,\n",
    "        33.50, 39.49, 34.60, 38.94,\n",
    "        39.56, 37.34, 39.73, 39.96,\n",
    "        44.80, 47.09, 41.40, 47.13,\n",
    "        45.41, 41.48, 45.31, 49.15,\n",
    "        49.16, 43.49, 51.85, 52.84,\n",
    "        51.24 )\n",
    "x <- ts(x, freq=1)"
   ]
  },
  {
   "cell_type": "code",
   "execution_count": null,
   "metadata": {
    "collapsed": false
   },
   "outputs": [],
   "source": [
    "## Prueba ACF\n",
    "options(repr.plot.width=8, repr.plot.height=4)\n",
    "\n",
    "acf(x,                 # Serie con tendencia\n",
    "    ylim=c(-1,1))      # Limites eje y"
   ]
  },
  {
   "cell_type": "code",
   "execution_count": null,
   "metadata": {
    "collapsed": false
   },
   "outputs": [],
   "source": [
    "## Prueba PACF de una serie con tendencia\n",
    "options(repr.plot.width=8, repr.plot.height=4)\n",
    "\n",
    "pacf(x,                    # Serie con tendencia\n",
    "     ylim=c(-1,1))         # Limites eje y"
   ]
  },
  {
   "cell_type": "markdown",
   "metadata": {},
   "source": [
    "### Prueba ACF y PACF serie con tendencia y ciclo"
   ]
  },
  {
   "cell_type": "markdown",
   "metadata": {},
   "source": [
    "[Contenido](#Contenido)"
   ]
  },
  {
   "cell_type": "code",
   "execution_count": null,
   "metadata": {
    "collapsed": true
   },
   "outputs": [],
   "source": [
    "## Serie de tiempo con tendencia y ciclo\n",
    "x <- c( 13.10, 13.28, 12.07, 11.35,\n",
    "        12.91, 13.34, 12.08, 11.59,\n",
    "        12.70, 13.93, 12.80, 12.41,\n",
    "        13.74, 14.41, 13.29, 12.66,\n",
    "        13.48, 14.45, 13.98, 13.03,\n",
    "        15.05, 15.10, 14.29, 13.56)\n",
    "\n",
    "x <- ts(x, freq=4)"
   ]
  },
  {
   "cell_type": "code",
   "execution_count": null,
   "metadata": {
    "collapsed": false
   },
   "outputs": [],
   "source": [
    "## Prueba ACF\n",
    "options(repr.plot.width=8, repr.plot.height=4)\n",
    "\n",
    "acf(x,                 # Serie con tendencia\n",
    "    ylim=c(-1,1))      # Limites eje y"
   ]
  },
  {
   "cell_type": "code",
   "execution_count": null,
   "metadata": {
    "collapsed": false
   },
   "outputs": [],
   "source": [
    "## Prueba PACF\n",
    "\n",
    "options(repr.plot.width=8, repr.plot.height=4)\n",
    "\n",
    "pacf(x,                 # Serie con tendencia\n",
    "    ylim=c(-1,1))       # Limites eje y"
   ]
  },
  {
   "cell_type": "markdown",
   "metadata": {},
   "source": [
    "### Prueba ACF y PACF de un proceso autorregresivo"
   ]
  },
  {
   "cell_type": "markdown",
   "metadata": {},
   "source": [
    "[Contenido](#Contenido)"
   ]
  },
  {
   "cell_type": "code",
   "execution_count": null,
   "metadata": {
    "collapsed": true
   },
   "outputs": [],
   "source": [
    "x <- c( -3.10,  3.20, -1.88,  2.31,\n",
    "        -1.07, -0.30, -1.62,  1.78,\n",
    "        -3.60,  1.73, -3.57,  1.62,\n",
    "        -1.06,  1.65, -1.84,  3.02,\n",
    "        -2.25,  1.33, -1.46, -1.47,\n",
    "        1.67,  -0.98, -0.57,  1.69,\n",
    "        -1.11, -0.86, -0.33,  1.83,\n",
    "        -1.14,  0.86, -0.79,  1.82,\n",
    "        -1.09,  1.20, -0.71,  1.18,\n",
    "        -1.26,  0.48, -0.17,  1.18,\n",
    "        0.04,   0.50,  0.85, -0.44,\n",
    "        0.08,  -0.84,  0.98, -1.38,\n",
    "        0.81,  -1.94  )\n",
    "\n",
    "x <- ts(x, freq=1)"
   ]
  },
  {
   "cell_type": "code",
   "execution_count": null,
   "metadata": {
    "collapsed": false
   },
   "outputs": [],
   "source": [
    "## Prueba ACF\n",
    "options(repr.plot.width=8, repr.plot.height=4)\n",
    "\n",
    "acf(x,                 # Serie con tendencia\n",
    "    ylim=c(-1,1))      # Limites eje y"
   ]
  },
  {
   "cell_type": "code",
   "execution_count": null,
   "metadata": {
    "collapsed": false,
    "scrolled": true
   },
   "outputs": [],
   "source": [
    "## Prueba PACF\n",
    "\n",
    "options(repr.plot.width=8, repr.plot.height=4)\n",
    "\n",
    "pacf(x,                 # Serie con tendencia\n",
    "    ylim=c(-1,1))       # Limites eje y"
   ]
  },
  {
   "cell_type": "markdown",
   "metadata": {},
   "source": [
    "### Prueba ACF y PACF de un proceso de medias moviles"
   ]
  },
  {
   "cell_type": "markdown",
   "metadata": {},
   "source": [
    "[Contenido](#Contenido)"
   ]
  },
  {
   "cell_type": "code",
   "execution_count": null,
   "metadata": {
    "collapsed": true
   },
   "outputs": [],
   "source": [
    "x <- c( 1.22,   0.59, -0.25,  0.74,\n",
    "        1.28,   1.11,  0.60,  0.44,\n",
    "        0.90,   0.15,  0.29, -0.24,\n",
    "        -0.45, -0.03, -0.16,  0.47,\n",
    "        0.70,  -0.07, -0.43, -0.75,\n",
    "        -0.16, -0.75, -0.56,  0.25,\n",
    "        0.49,  -0.56,  0.20, -0.12,\n",
    "        -0.94,  0.45, -0.55, -1.37,\n",
    "        -0.69,  0.30, -0.21,  0.90,\n",
    "        0.54,   1.28,  0.59,  1.12,\n",
    "        0.14,   1.77,  0.76,  0.78,\n",
    "        1.36,   1.48,  0.41,  0.15,\n",
    "        -0.83, -1.94 )\n",
    "\n",
    "x <- ts(x, freq=1)"
   ]
  },
  {
   "cell_type": "code",
   "execution_count": null,
   "metadata": {
    "collapsed": false
   },
   "outputs": [],
   "source": [
    "## Prueba ACF\n",
    "options(repr.plot.width=8, repr.plot.height=4)\n",
    "\n",
    "acf(x,                 # Serie con tendencia\n",
    "    ylim=c(-1,1))      # Limites eje y"
   ]
  },
  {
   "cell_type": "code",
   "execution_count": null,
   "metadata": {
    "collapsed": false
   },
   "outputs": [],
   "source": [
    "## Prueba ACF\n",
    "options(repr.plot.width=8, repr.plot.height=4)\n",
    "\n",
    "acf(x,                 # Serie con tendencia\n",
    "    ylim=c(-1,1))      # Limites eje y"
   ]
  },
  {
   "cell_type": "markdown",
   "metadata": {},
   "source": [
    "## Proceso Browniano con tendencia"
   ]
  },
  {
   "cell_type": "markdown",
   "metadata": {},
   "source": [
    "[Contenido](#Contenido)"
   ]
  },
  {
   "cell_type": "markdown",
   "metadata": {},
   "source": [
    "Modelo continuo:\n",
    "$$dx_t=μ*dt+σ*dz_t$$\n"
   ]
  },
  {
   "cell_type": "markdown",
   "metadata": {},
   "source": [
    "Modelo discreto:\n",
    "$$x_t=x_{t-1}+μ +σ*ε_t$$\n"
   ]
  },
  {
   "cell_type": "markdown",
   "metadata": {},
   "source": [
    "Interpretación: Si $x_t=P_t$, entonces:\n",
    "$x_t-x_{t-1}=P_t-P_{t-1}=D_t$  ~ $N[μ,σ^2 ]$\n",
    "\n"
   ]
  },
  {
   "cell_type": "markdown",
   "metadata": {},
   "source": [
    "**Pronostico $h$ periodos adelante:**\n",
    "\n",
    "$x_{t+h}-x_t=(x_{t+h}-x_{t+h-1} )+⋯+(x_{t+1}-x_t )=$ $\\sum_{i=1}^{h} D_{t+i} $\n",
    "\n",
    "$x_{t+h}-x_t$   ~   $N[μh,σ^2 h]$\n",
    "\n",
    "$x_{t+h}=x_t+μh+σε_{t+h} \\sqrt{h}$"
   ]
  },
  {
   "cell_type": "markdown",
   "metadata": {},
   "source": [
    "## Genereación de la serie sintética"
   ]
  },
  {
   "cell_type": "markdown",
   "metadata": {},
   "source": [
    "[Contenido](#Contenido)"
   ]
  },
  {
   "cell_type": "code",
   "execution_count": null,
   "metadata": {
    "collapsed": false
   },
   "outputs": [],
   "source": [
    "T = 600\n",
    "P = rep(0, T)\n",
    "for(t in 2:T)\n",
    "  {\n",
    "  P[t] = P[t-1] + 0.01667 + 0.2887 * rnorm(1) \n",
    "  }\n",
    "\n",
    "## pronostico e intervalos de confianza\n",
    "F = rep(0, T); U = rep(0, T); L = rep(0, T)\n",
    "H = 300\n",
    "F[H] = L[H] = U[H] = P[H]  \n",
    "\n",
    "for(t in 1:300)\n",
    "  {\n",
    "  F[H+t] = F[H] + 0.01667 * t\n",
    "  L[H+t] = F[H] + 0.01667 * t + 0.2887 * sqrt(t)\n",
    "  U[H+t] = F[H] + 0.01667 * t - 0.2887 * sqrt(t)\n",
    "  }\n",
    "  \n",
    "## Grafico\n",
    "plot(P, type='l', lwd = 2, col = 'black', xlab = 't', \n",
    "     ylab = 'P[t]', ylim = c(min(P, L[T]), max(P, U[T])))\n",
    "lines(x = H:T, y = F[H:T], type = 'l', lwd = 2, col = 'red' )\n",
    "lines(x = H:T, y = L[H:T], type = 'l', lwd = 2, col = 'red' )\n",
    "lines(x = H:T, y = U[H:T], type = 'l', lwd = 2, col = 'red' )\n",
    "\n",
    "grid()"
   ]
  },
  {
   "cell_type": "markdown",
   "metadata": {},
   "source": [
    "---"
   ]
  },
  {
   "cell_type": "markdown",
   "metadata": {},
   "source": [
    "[Contenido](#Contenido)"
   ]
  }
 ],
 "metadata": {
  "anaconda-cloud": {},
  "kernelspec": {
   "display_name": "R",
   "language": "R",
   "name": "ir"
  },
  "language_info": {
   "codemirror_mode": "r",
   "file_extension": ".r",
   "mimetype": "text/x-r-source",
   "name": "R",
   "pygments_lexer": "r",
   "version": "3.3.1"
  }
 },
 "nbformat": 4,
 "nbformat_minor": 0
}
