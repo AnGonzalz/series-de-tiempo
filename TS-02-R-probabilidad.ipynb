{
 "cells": [
  {
   "cell_type": "markdown",
   "metadata": {},
   "source": [
    "# Series de Tiempo -- R -- Probabilidad\n",
    "Notas de clase sobre pronóstico de series de tiempo usando R"
   ]
  },
  {
   "cell_type": "markdown",
   "metadata": {},
   "source": [
    "**Juan David Velásquez Henao**   \n",
    "jdvelasq@unal.edu.co  \n",
    "Universidad Nacional de Colombia, Sede Medellín  \n",
    "Facultad de Minas  \n",
    "Medellín, Colombia  \n",
    "\n",
    "[Licencia]\n",
    "\n",
    "[Readme]"
   ]
  },
  {
   "cell_type": "markdown",
   "metadata": {},
   "source": [
    "**Software utilizado**.\n",
    "\n",
    "> Este es un documento interactivo escrito como un notebook de [Jupyter](http://jupyter.org), en el cual se presenta un tutorial sobre la extracción, transformación, visualización y carga de datos usando **R** en el contexto de la ciencia de los datos. Los notebooks de Jupyter permiten incoporar simultáneamente código, texto, gráficos y ecuaciones. El código presentado en este notebook puede ejecutarse en los sistemas operativos Linux y OS X.\n",
    "\n",
    "> Haga click [aquí](https://github.com/jdvelasq/guias-de-instalacion) para obtener instrucciones detalladas sobre como instalar Jupyter en Windows y Mac OS X.\n",
    "\n",
    "> Haga clic [aquí] para ver la última versión de este documento en nbviewer.\n",
    "\n",
    "> Descargue la última versión de este documento a su disco duro; luego, carguelo y ejecutelo en línea en [Try Jupyter!](https://try.jupyter.org)\n",
    "\n",
    "> Haga clic [aquí](https://github.com/jdvelasq/ETVL-R/blob/master/ETVL-R-5-visualizacion-1-base.ipynb) para ver el tutorial de visualización y gráficas."
   ]
  },
  {
   "cell_type": "markdown",
   "metadata": {},
   "source": [
    "#### Contenido"
   ]
  },
  {
   "cell_type": "markdown",
   "metadata": {},
   "source": [
    "> \n",
    "* [Probabilidad como frecuencia](#Probabilidad-como-frecuencia)\n",
    "* [Definiciones básicas](#Definiciones-básicas)\n",
    "* [Representación de la probabilidad para variables continuas](#Representación-de-la-probabilidad-para-variables-continuas)\n",
    "* [Momentos de una distribución](#Momentos-de-una-distribución)\n",
    "* [Principales distribuciones continuas](#Principales-distribuciones-continuas)\n",
    "* [Propiedades útiles de la distribución normal](#Propiedades-útiles-de-la-distribución-normal)\n",
    "* [Muestreo de una distribución de probabilidades](#Muestreo-de-una-distribución-de-probabilidades)\n",
    "* [Inferencia de la distribución de probabilidades](#Inferencia-de-la-distribución-de-probabilidades)\n",
    "* [Análisis de la distribución de una muestra de datos](#Análisis-de-la-distribución-de-una-muestra-de-datos)\n",
    "* [Pruebas de normalidad](#Pruebas-de-normalidad)\n",
    "* [Teorema del Límite Central](#Teorema-del-Límite-Central)\n",
    "* [Bootstrap](#Bootstrap)\n"
   ]
  },
  {
   "cell_type": "markdown",
   "metadata": {},
   "source": [
    "**Bibliografía**.\n",
    "\n",
    ">\n",
    "\n",
    "---"
   ]
  },
  {
   "cell_type": "markdown",
   "metadata": {},
   "source": [
    "# Probabilidad como frecuencia"
   ]
  },
  {
   "cell_type": "markdown",
   "metadata": {},
   "source": [
    "[Contenido](#Contenido)"
   ]
  },
  {
   "cell_type": "markdown",
   "metadata": {},
   "source": [
    "En su forma más simple, el concepto de probabilidad puede interpretarse como la frecuencia con que ocurre un evento. Ejemplo: Tirada de dos dados:"
   ]
  },
  {
   "cell_type": "markdown",
   "metadata": {},
   "source": [
    "![alt text](images/tirada-dados.jpg)"
   ]
  },
  {
   "cell_type": "markdown",
   "metadata": {},
   "source": [
    "    Prob(𝑋= 2) = 1 / 36 \n",
    "    Prob(𝑋= 3) = 2 / 36  \n",
    "    Prob(𝑋= 4) = 3 / 36\n",
    "    Prob(𝑋= 5) = 4 / 36 \n",
    "    Prob(𝑋= 6) = 5 / 36 \n",
    "    Prob(𝑋= 7) = 6 / 36\n",
    "    Prob(𝑋= 8) = 5 / 36 \n",
    "    Prob(𝑋= 9) = 4 / 36 \n",
    "    Prob(𝑋=10) = 3 / 36\n",
    "    Prob(𝑋=11) = 2 / 36 \n",
    "    Prob(𝑋=12) = 1 / 36 \n"
   ]
  },
  {
   "cell_type": "markdown",
   "metadata": {},
   "source": [
    "---"
   ]
  },
  {
   "cell_type": "markdown",
   "metadata": {},
   "source": [
    "**Ejercicio.--** Los soldados mediavales apostaban con dos dados de la siguiente manera: si el resultado es par {2, 4, 6, 8, 10, 12} ganaba el soldado A; y si el resultado es impar {3, 5, 7, 9, 11} ganaba el soldado B. ¿Quién tiene mayor probabilidad de ganar?"
   ]
  },
  {
   "cell_type": "code",
   "execution_count": null,
   "metadata": {
    "collapsed": true
   },
   "outputs": [],
   "source": []
  },
  {
   "cell_type": "markdown",
   "metadata": {},
   "source": [
    "---"
   ]
  },
  {
   "cell_type": "markdown",
   "metadata": {},
   "source": [
    "# Definiciones básicas"
   ]
  },
  {
   "cell_type": "markdown",
   "metadata": {},
   "source": [
    "[Contenido](#Contenido)"
   ]
  },
  {
   "cell_type": "markdown",
   "metadata": {},
   "source": [
    "* Todas las probabilidades deben estar entre 0 y 1: \n",
    "$$0 <= \\text{Prob}(x_i) <= 1$$"
   ]
  },
  {
   "cell_type": "markdown",
   "metadata": {},
   "source": [
    "* Las probabilidades de eventos mutuamente exclusivos y colectivamente exhaustivos deben sumar la unidad:\n",
    "\n",
    "$$\\sum_{i=1}^n \\text{Prob}(x_i) = 1$$\n",
    "\n",
    "<img src=\"images/eventos-conjuntos-2.jpg\" width=500>"
   ]
  },
  {
   "cell_type": "markdown",
   "metadata": {},
   "source": [
    "* Probabilidad conjunta: Los eventos ocurren simultaneamente. \n",
    "\n",
    "$$\\text{Prob}(F1~\\text{and}~V2)$$\n",
    "\n",
    "<img src=\"images/probabilidad-conjunta-3.jpg\" width=250>"
   ]
  },
  {
   "cell_type": "markdown",
   "metadata": {},
   "source": [
    "* Probabilidad condicional: probabilidad de que ocurra un evento sabiendo que el otro ya ocurrio.\n",
    "\n",
    "$$\\text{Prob}(V2 ~ | ~F1) = \\text{Prob}(F1~\\text{and} ~ V2) ~/~\\text{Prob}(F1)$$\n",
    "\n",
    "<img src=\"images/probabilidad-condicional.jpg\" width=150>"
   ]
  },
  {
   "cell_type": "markdown",
   "metadata": {},
   "source": [
    "* Independencia: Si los eventos $A$ y $B$ son independientes:\n",
    "\n",
    "$$\\text{Prob}(A~|~B) = \\text{Prob}(A)$$\n",
    "\n",
    "De la definición de probabilidad condicional:\n",
    "\n",
    "$$\\text{Prob}(A~|~B) = \\text{Prob}(A) = \\frac{\\text{Prob}(A~\\text{and}~B)}{\\text{Prob}(B)}$$\n",
    "\n",
    "Entonces:\n",
    "\n",
    "$$\\text{Prob}(A~\\text{and}~B)~=~\\text{Prob}(A)~*~\\text{Prob}(B)$$  "
   ]
  },
  {
   "cell_type": "markdown",
   "metadata": {},
   "source": [
    "* Probabilidad marginal: Sea $𝑋_i$ con $𝑖 = 1, ... , 𝑛$, un conjunto de eventos mutuamente exclusivos y colectivamente exhaustivos. La probabilidad de un evento $𝐴$ es:\n",
    "\n",
    "$$\\text{Prob}(A) = \\sum_{i=1}^n \\text{Prob}(A~\\text{and}~X_i)$$\n",
    "\n",
    "<img src=\"images/eventos-conjuntos.jpg\" width=750>"
   ]
  },
  {
   "cell_type": "markdown",
   "metadata": {},
   "source": [
    "* Para dos eventos $A$ y $B$:\n",
    "\n",
    "$$\\text{Prob}(A ~\\text{or}~B) = \\text{Prob}(A) + \\text{Prob}(B) - \\text{Prob}(A~\\text{and}~B)$$\n",
    "\n",
    "<img src=\"images/probabilidad-conjunta-3.jpg\" width=250>"
   ]
  },
  {
   "cell_type": "markdown",
   "metadata": {},
   "source": [
    "* Complemento: \n",
    "$$\\text{Prob}(\\text{not}~ A) = 1 - \\text{Prob}(A)$$"
   ]
  },
  {
   "cell_type": "markdown",
   "metadata": {},
   "source": [
    "* Probabilidad total: \n",
    "$$\\text{Prob}(A) = \\text{Prob}(A~\\text{and}~B) + \\text{Prob}(A~\\text{and}~\\text{not}~B) = \n",
    "\\text{Prob}(A~|~B)~\\text{Prob}(B) ~+~ \\text{Prob}(A~|~\\text{not}~B)~\\text{Prob}(\\text{not}~B)$$"
   ]
  },
  {
   "cell_type": "markdown",
   "metadata": {},
   "source": [
    "* Teorema de Bayes:\n",
    "$$\\text{Prob}(A~\\text{and}~B) = \\text{Prob}(A~|~B)~\\text{Prob}{B} =  \\text{Prob}(B~|~A)~\\text{Prob}{A}$$\n",
    "\n",
    "$$\\text{Prob}(B~|~A) = \\frac{\\text{Prob}(A~|~B)~\\text{Prob}{B}}{\\text{Prob}(A)}$$\n",
    "\n",
    "$$ = \\frac{\\text{Prob}(A~|~B)~\\text{Prob}{B}} {\\text{Prob}(A~|~B)~\\text{Prob}(B) ~+~ \\text{Prob}(A~|~\\text{not}~B)~\\text{Prob}(\\text{not}~B)}$$"
   ]
  },
  {
   "cell_type": "markdown",
   "metadata": {},
   "source": [
    "---\n"
   ]
  },
  {
   "cell_type": "markdown",
   "metadata": {},
   "source": [
    "**Ejercicio.--** Complete las siguientes tablas de probabilidades:\n",
    "\n"
   ]
  },
  {
   "cell_type": "markdown",
   "metadata": {},
   "source": [
    "*Probabilidades totales*:"
   ]
  },
  {
   "cell_type": "raw",
   "metadata": {},
   "source": [
    "                F1     F2     F3  Prob(V)\n",
    "    ---------------------------------------\n",
    "         V1   0.10      ?   0.03        ?\n",
    "         V2      ?   0.26   0.14     0.62\n",
    "    ---------------------------------------\n",
    "    Prob(F)      ?      ?      ?      \n",
    "    \n",
    "    "
   ]
  },
  {
   "cell_type": "markdown",
   "metadata": {},
   "source": [
    "*Probabilidades condicionales*:"
   ]
  },
  {
   "cell_type": "raw",
   "metadata": {},
   "source": [
    "    Prob(F|V)                           Prob(V/F)\n",
    "\n",
    "                F1     F2     F3                    F1     F2     F3  \n",
    "    ----------------------------        ----------------------------\n",
    "         V1  10/38      ?      ?             V1      ?  25/37      ?        \n",
    "         V2      ?      ?  14/62             V2      ?      ?      ?  \n",
    "         "
   ]
  },
  {
   "cell_type": "markdown",
   "metadata": {},
   "source": [
    "---\n"
   ]
  },
  {
   "cell_type": "markdown",
   "metadata": {},
   "source": [
    "# Representación de la probabilidad para variables continuas"
   ]
  },
  {
   "cell_type": "markdown",
   "metadata": {},
   "source": [
    "[Contenido](#Contenido)"
   ]
  },
  {
   "cell_type": "markdown",
   "metadata": {},
   "source": [
    "Se usa una función matemática para definir la función de densidad de probabilidad. Se nota como $f_X(x)$.\n",
    "\n",
    "<img src=\"images/prob-continua.jpg\" width=350>"
   ]
  },
  {
   "cell_type": "markdown",
   "metadata": {},
   "source": [
    "La función de densidad de probabilidad acumulada es la integral de $f_X(x)$ entre $-\\infty$ y $x$ y se define como:\n",
    "\n",
    "$$F_X(x)= \\int_{-\\infty}^x f_X(u) du$$"
   ]
  },
  {
   "cell_type": "markdown",
   "metadata": {},
   "source": [
    "# Momentos de una distribución"
   ]
  },
  {
   "cell_type": "markdown",
   "metadata": {},
   "source": [
    "[Contenido](#Contenido)"
   ]
  },
  {
   "cell_type": "markdown",
   "metadata": {},
   "source": [
    "Los momentos de una distribución permiten caracterizar sus propiedades. Estos son:"
   ]
  },
  {
   "cell_type": "markdown",
   "metadata": {},
   "source": [
    "**Media o valor esperado**:  $ E[x_t ]= μ_x =$ $ \\int f_x (u)\\,du =M_1$"
   ]
  },
  {
   "cell_type": "markdown",
   "metadata": {},
   "source": [
    "**Varianza**:  $V[x_t ] = σ_x^2 = E[(x_t-μ_x )^2 ]=M_2-M_1^2$"
   ]
  },
  {
   "cell_type": "markdown",
   "metadata": {},
   "source": [
    "**Asimetría**:  $S_x = E[(x_t-μ_x )^3 ]=M_3-3M_2 M_1+2M_1^2$"
   ]
  },
  {
   "cell_type": "markdown",
   "metadata": {},
   "source": [
    "**Curtosis**: $K_x = E[(x_t-μ_x )^4 ]=M_4-4M_3 M_1+6M_2 M_1^2-3M_1^4$"
   ]
  },
  {
   "cell_type": "markdown",
   "metadata": {},
   "source": [
    "Interpretación momentos centrales de una distribución:"
   ]
  },
  {
   "cell_type": "markdown",
   "metadata": {},
   "source": [
    "<img src=\"images/fdp.png\" width=500>"
   ]
  },
  {
   "cell_type": "markdown",
   "metadata": {},
   "source": [
    "# Principales distribuciones continuas"
   ]
  },
  {
   "cell_type": "markdown",
   "metadata": {},
   "source": [
    "[Contenido](#Contenido)"
   ]
  },
  {
   "cell_type": "markdown",
   "metadata": {},
   "source": [
    "* Distribución normal:\n",
    "\n",
    "$$f_X(x|\\mu_X, \\sigma_X) = \\frac{1}{\\sigma_X \\sqrt{2\\pi}} \\exp\\Big[ {-\\frac{1}{2}\\Big( \\frac{x-\\mu_X}{\\sigma_X}   \\Big)^2} \\Big]$$"
   ]
  },
  {
   "cell_type": "markdown",
   "metadata": {},
   "source": [
    "* Distribución normal estandarizada: es la distribución normal con $\\mu_X=0$ y $\\sigma_X=1$."
   ]
  },
  {
   "cell_type": "markdown",
   "metadata": {},
   "source": [
    "* Distribución lognormal: La variable $y = \\log(x)$ sigue una distribución normal."
   ]
  },
  {
   "cell_type": "markdown",
   "metadata": {},
   "source": [
    "---"
   ]
  },
  {
   "cell_type": "markdown",
   "metadata": {},
   "source": [
    "**Ejercicio.--** El lenguaje R tiene las siguientes funciones para la distribución normal:\n",
    "\n",
    "     dnorm(x, mean = 0, sd = 1, log = FALSE)\n",
    "     pnorm(q, mean = 0, sd = 1, lower.tail = TRUE, log.p = FALSE)\n",
    "     qnorm(p, mean = 0, sd = 1, lower.tail = TRUE, log.p = FALSE)\n",
    "     \n",
    "donde: \n",
    "* `dnorm(x)` es la función de densidad de probabilidad $f_X(x)$. \n",
    "* `pnorm(q)` es la función de densidad de probabilidad acumulada $F_X(q)$. \n",
    "* `qnorm(p)` es la inversa de $F_X(q)$. \n",
    "\n",
    "En una misma figura, grafique la función de densidad de probabilidad para las siguientes distribuciones:\n",
    "* `mean = 0` y `sd = 0.2`.\n",
    "* `mean = 0` y `sd = 1.0`.\n",
    "* `mean = -2` y `sd = 0.5`."
   ]
  },
  {
   "cell_type": "code",
   "execution_count": null,
   "metadata": {
    "collapsed": true
   },
   "outputs": [],
   "source": []
  },
  {
   "cell_type": "markdown",
   "metadata": {},
   "source": [
    "**Ejercicio.--** Cuál es el valor de $x$ para una distribución normal estándar tal que el área entre $-\\infty$ y $x$ sea:\n",
    "\n",
    "* 0.01\n",
    "* 0.05\n",
    "* 0.10"
   ]
  },
  {
   "cell_type": "code",
   "execution_count": null,
   "metadata": {
    "collapsed": true
   },
   "outputs": [],
   "source": []
  },
  {
   "cell_type": "markdown",
   "metadata": {},
   "source": [
    "**Ejercicio.--** Cuál es el valor de $x$ para una distribución normal estándar tal que el área entre $-x$ y $x$ sea:\n",
    "\n",
    "* 0.90\n",
    "* 0.95\n",
    "* 0.99"
   ]
  },
  {
   "cell_type": "code",
   "execution_count": null,
   "metadata": {
    "collapsed": true
   },
   "outputs": [],
   "source": []
  },
  {
   "cell_type": "markdown",
   "metadata": {},
   "source": [
    "**Ejercicio.--** El lenguaje R tiene las siguientes funciones para la distribución lognormal:\n",
    "\n",
    "     dlnorm(x, meanlog = 0, sdlog = 1, log = FALSE)\n",
    "     plnorm(q, meanlog = 0, sdlog = 1, lower.tail = TRUE, log.p = FALSE)\n",
    "     qlnorm(p, meanlog = 0, sdlog = 1, lower.tail = TRUE, log.p = FALSE)\n",
    "     \n",
    "donde: \n",
    "* `dlnorm(x)` es la función de densidad de probabilidad $f_X(x)$. \n",
    "* `plnorm(q)` es la función de densidad de probabilidad acumulada $F_X(q)$. \n",
    "* `qlnorm(p)` es la inversa de $F_X(q)$. \n",
    "\n",
    "En una misma figura, grafique la función de densidad de probabilidad para las siguientes distribuciones:\n",
    "* `meanlog = 0` y `sdlog = 0.25`.\n",
    "* `meanlog = 0` y `sdlog = 0.50`.\n",
    "* `meanlog = 0` y `sdlog = 1.00`."
   ]
  },
  {
   "cell_type": "code",
   "execution_count": null,
   "metadata": {
    "collapsed": true
   },
   "outputs": [],
   "source": []
  },
  {
   "cell_type": "markdown",
   "metadata": {},
   "source": [
    "**Ejercicio.--** Cuál es el valor de $x$ para una distribución lognormal (estándar) tal que el área entre $-\\infty$ y $x$ sea:\n",
    "\n",
    "* 0.01\n",
    "* 0.05\n",
    "* 0.10"
   ]
  },
  {
   "cell_type": "code",
   "execution_count": null,
   "metadata": {
    "collapsed": true
   },
   "outputs": [],
   "source": []
  },
  {
   "cell_type": "markdown",
   "metadata": {},
   "source": [
    "**Ejercicio.--** Cuál es el valor de $x$ para una distribución lognormal (estándar) tal que el área entre $-x$ y $x$ sea:\n",
    "\n",
    "* 0.90\n",
    "* 0.95\n",
    "* 0.99"
   ]
  },
  {
   "cell_type": "code",
   "execution_count": null,
   "metadata": {
    "collapsed": true
   },
   "outputs": [],
   "source": []
  },
  {
   "cell_type": "markdown",
   "metadata": {},
   "source": [
    "**Ejercicio.--** Para muestras pequeñas, se suele utilizar la distribución t en vez de la normal. Las funciones en el lenguaje R para esta distribución son las siguientes:\n",
    "\n",
    "    dt(x, df, ncp, log = FALSE)\n",
    "    pt(q, df, ncp, lower.tail = TRUE, log.p = FALSE)\n",
    "    qt(p, df, ncp, lower.tail = TRUE, log.p = FALSE)\n",
    "    \n",
    "  donde: \n",
    "* `dt(x, df)` es la función de densidad de probabilidad $f_X(x)$. \n",
    "* `pt(q, df)` es la función de densidad de probabilidad acumulada $F_X(q)$. \n",
    "* `qt(p, df)` es la inversa de $F_X(q)$. \n",
    "\n",
    "El parámetro `df` corresponde a los grados de libertad\n",
    "\n",
    "En una misma figura, grafique la función de densidad de probabilidad para las siguientes distribuciones:\n",
    "* `df = 10`.\n",
    "* `df = 20`.\n",
    "* `df = 30`.\n",
    "\n",
    "Adicionalmente,  grafique en la misma figura la distribución normal equivalente."
   ]
  },
  {
   "cell_type": "code",
   "execution_count": null,
   "metadata": {
    "collapsed": true
   },
   "outputs": [],
   "source": []
  },
  {
   "cell_type": "markdown",
   "metadata": {},
   "source": [
    "**Ejercicio.--** Cuál es el valor de $x$ para una distribución t con 20 grados de libertad tal que el área entre $-\\infty$ y $x$ sea:\n",
    "\n",
    "* 0.01\n",
    "* 0.05\n",
    "* 0.10"
   ]
  },
  {
   "cell_type": "code",
   "execution_count": null,
   "metadata": {
    "collapsed": true
   },
   "outputs": [],
   "source": []
  },
  {
   "cell_type": "markdown",
   "metadata": {},
   "source": [
    "**Ejercicio.--** Cuál es el valor de $x$ para una distribución t con 20 grados de libertad tal que el área entre $-x$ y $x$ sea:\n",
    "\n",
    "* 0.90\n",
    "* 0.95\n",
    "* 0.99"
   ]
  },
  {
   "cell_type": "code",
   "execution_count": null,
   "metadata": {
    "collapsed": true
   },
   "outputs": [],
   "source": []
  },
  {
   "cell_type": "markdown",
   "metadata": {},
   "source": [
    "---"
   ]
  },
  {
   "cell_type": "markdown",
   "metadata": {},
   "source": [
    "# Propiedades útiles de la distribución normal"
   ]
  },
  {
   "cell_type": "markdown",
   "metadata": {},
   "source": [
    "[Contenido](#Contenido)"
   ]
  },
  {
   "cell_type": "markdown",
   "metadata": {},
   "source": [
    "* Sean $x \\sim N(\\mu_X, \\sigma_X^2)$ y $y \\sim N(\\mu_Y, \\sigma_Y^2)$, entonces:\n",
    "\n",
    "$$ x + y \\sim N(~\\mu_X~+~\\mu_Y, ~\\sigma_X^2 + \\sigma_Y^2~)$$"
   ]
  },
  {
   "cell_type": "markdown",
   "metadata": {},
   "source": [
    "* Sea $x \\sim N(\\mu_X, \\sigma_X^2)$ y dos números reales $a$ y $b$, entonces:\n",
    "\n",
    "$$a~+~b~\\sim N(a\\mu_X+b,~ a^2 \\sigma_X^2)$$"
   ]
  },
  {
   "cell_type": "markdown",
   "metadata": {},
   "source": [
    "* Sean $x \\sim N(\\mu_X, \\sigma_X^2)$ y $\\epsilon \\sim N(0, 1)$, entonces:\n",
    "\n",
    "$$x = \\mu_X~+~\\sigma_X \\epsilon$$"
   ]
  },
  {
   "cell_type": "markdown",
   "metadata": {},
   "source": [
    "# Muestreo de una distribución de probabilidades"
   ]
  },
  {
   "cell_type": "markdown",
   "metadata": {},
   "source": [
    "[Contenido](#Contenido)"
   ]
  },
  {
   "cell_type": "markdown",
   "metadata": {},
   "source": [
    "La muestra ${x_1, x_2, ..., x_n}$ se define como una muestra aleatoria de una distribución de probabilidades, si los valores $x_i$:\n",
    "\n",
    "* Tienen la misma distribución de probabilidades.\n",
    "* Son independientes.\n",
    "\n",
    "Estas propiedades se suelen abreviar como iid (independientes e identicamente distribuidas)."
   ]
  },
  {
   "cell_type": "code",
   "execution_count": 9,
   "metadata": {
    "collapsed": false
   },
   "outputs": [
    {
     "data": {
      "text/html": [
       "<ol class=list-inline>\n",
       "\t<li>0.780063919490203</li>\n",
       "\t<li>0.814130756771192</li>\n",
       "\t<li>0.895553751615807</li>\n",
       "\t<li>0.322481705341488</li>\n",
       "\t<li>0.0301190414465964</li>\n",
       "</ol>\n"
      ],
      "text/latex": [
       "\\begin{enumerate*}\n",
       "\\item 0.780063919490203\n",
       "\\item 0.814130756771192\n",
       "\\item 0.895553751615807\n",
       "\\item 0.322481705341488\n",
       "\\item 0.0301190414465964\n",
       "\\end{enumerate*}\n"
      ],
      "text/markdown": [
       "1. 0.780063919490203\n",
       "2. 0.814130756771192\n",
       "3. 0.895553751615807\n",
       "4. 0.322481705341488\n",
       "5. 0.0301190414465964\n",
       "\n",
       "\n"
      ],
      "text/plain": [
       "[1] 0.78006392 0.81413076 0.89555375 0.32248171 0.03011904"
      ]
     },
     "metadata": {},
     "output_type": "display_data"
    }
   ],
   "source": [
    "## aleatorio uniforme entre 0 y 1\n",
    "runif(5)"
   ]
  },
  {
   "cell_type": "code",
   "execution_count": 10,
   "metadata": {
    "collapsed": false
   },
   "outputs": [
    {
     "data": {
      "text/html": [
       "<ol class=list-inline>\n",
       "\t<li>-0.746463467214949</li>\n",
       "\t<li>0.906267727686356</li>\n",
       "\t<li>0.363316379797623</li>\n",
       "\t<li>1.24627354299043</li>\n",
       "\t<li>0.829002596347141</li>\n",
       "</ol>\n"
      ],
      "text/latex": [
       "\\begin{enumerate*}\n",
       "\\item -0.746463467214949\n",
       "\\item 0.906267727686356\n",
       "\\item 0.363316379797623\n",
       "\\item 1.24627354299043\n",
       "\\item 0.829002596347141\n",
       "\\end{enumerate*}\n"
      ],
      "text/markdown": [
       "1. -0.746463467214949\n",
       "2. 0.906267727686356\n",
       "3. 0.363316379797623\n",
       "4. 1.24627354299043\n",
       "5. 0.829002596347141\n",
       "\n",
       "\n"
      ],
      "text/plain": [
       "[1] -0.7464635  0.9062677  0.3633164  1.2462735  0.8290026"
      ]
     },
     "metadata": {},
     "output_type": "display_data"
    }
   ],
   "source": [
    "## aleatorio normal estándar\n",
    "rnorm(5)"
   ]
  },
  {
   "cell_type": "code",
   "execution_count": 11,
   "metadata": {
    "collapsed": false
   },
   "outputs": [
    {
     "data": {
      "text/html": [
       "<ol class=list-inline>\n",
       "\t<li>0.159272220745615</li>\n",
       "\t<li>-2.09423005924068</li>\n",
       "\t<li>1.08749549731359</li>\n",
       "\t<li>1.78245895062759</li>\n",
       "\t<li>-1.019595625968</li>\n",
       "</ol>\n"
      ],
      "text/latex": [
       "\\begin{enumerate*}\n",
       "\\item 0.159272220745615\n",
       "\\item -2.09423005924068\n",
       "\\item 1.08749549731359\n",
       "\\item 1.78245895062759\n",
       "\\item -1.019595625968\n",
       "\\end{enumerate*}\n"
      ],
      "text/markdown": [
       "1. 0.159272220745615\n",
       "2. -2.09423005924068\n",
       "3. 1.08749549731359\n",
       "4. 1.78245895062759\n",
       "5. -1.019595625968\n",
       "\n",
       "\n"
      ],
      "text/plain": [
       "[1]  0.1592722 -2.0942301  1.0874955  1.7824590 -1.0195956"
      ]
     },
     "metadata": {},
     "output_type": "display_data"
    }
   ],
   "source": [
    "## aleatorio distribución t con 10 grados de libertad\n",
    "rt(5, 10)"
   ]
  },
  {
   "cell_type": "code",
   "execution_count": 13,
   "metadata": {
    "collapsed": false
   },
   "outputs": [
    {
     "data": {
      "text/html": [
       "<ol class=list-inline>\n",
       "\t<li>0.289906019510212</li>\n",
       "\t<li>1.87141835634332</li>\n",
       "\t<li>1.33144349062325</li>\n",
       "\t<li>0.931322251190534</li>\n",
       "\t<li>0.494454607394361</li>\n",
       "</ol>\n"
      ],
      "text/latex": [
       "\\begin{enumerate*}\n",
       "\\item 0.289906019510212\n",
       "\\item 1.87141835634332\n",
       "\\item 1.33144349062325\n",
       "\\item 0.931322251190534\n",
       "\\item 0.494454607394361\n",
       "\\end{enumerate*}\n"
      ],
      "text/markdown": [
       "1. 0.289906019510212\n",
       "2. 1.87141835634332\n",
       "3. 1.33144349062325\n",
       "4. 0.931322251190534\n",
       "5. 0.494454607394361\n",
       "\n",
       "\n"
      ],
      "text/plain": [
       "[1] 0.2899060 1.8714184 1.3314435 0.9313223 0.4944546"
      ]
     },
     "metadata": {},
     "output_type": "display_data"
    }
   ],
   "source": [
    "## aleatorio distribución lognormal\n",
    "rlnorm(5)"
   ]
  },
  {
   "cell_type": "markdown",
   "metadata": {},
   "source": [
    "# Inferencia de la distribución de probabilidades"
   ]
  },
  {
   "cell_type": "markdown",
   "metadata": {},
   "source": [
    "[Contenido](#Contenido)"
   ]
  },
  {
   "cell_type": "markdown",
   "metadata": {},
   "source": [
    "En la parte de probabilidades se consideran dos problemas complementarios:\n",
    "\n",
    "* La generación de una muestra de números aleatorios a partir de una distribución teórica.\n",
    "* La inferencia de la distribución a partir de una muestra de datos aleatorios \n",
    "\n",
    "<img src=\"images/dist-inferencia.jpg\" width=600>"
   ]
  },
  {
   "cell_type": "markdown",
   "metadata": {},
   "source": [
    "# Análisis de la distribución de una muestra de datos"
   ]
  },
  {
   "cell_type": "markdown",
   "metadata": {},
   "source": [
    "[Contenido](#Contenido)"
   ]
  },
  {
   "cell_type": "markdown",
   "metadata": {},
   "source": [
    "Sea una muestra de datos obtenida de una distribución normal estándar"
   ]
  },
  {
   "cell_type": "code",
   "execution_count": 23,
   "metadata": {
    "collapsed": true
   },
   "outputs": [],
   "source": [
    "x <- rnorm(200)"
   ]
  },
  {
   "cell_type": "code",
   "execution_count": 24,
   "metadata": {
    "collapsed": false
   },
   "outputs": [
    {
     "data": {
      "text/html": [
       "-0.12199430370644"
      ],
      "text/latex": [
       "-0.12199430370644"
      ],
      "text/markdown": [
       "-0.12199430370644"
      ],
      "text/plain": [
       "[1] -0.1219943"
      ]
     },
     "metadata": {},
     "output_type": "display_data"
    }
   ],
   "source": [
    "## cálculo de la media de la muestra de datos\n",
    "mean(x)"
   ]
  },
  {
   "cell_type": "code",
   "execution_count": 25,
   "metadata": {
    "collapsed": false
   },
   "outputs": [
    {
     "data": {
      "text/html": [
       "1.05759979016403"
      ],
      "text/latex": [
       "1.05759979016403"
      ],
      "text/markdown": [
       "1.05759979016403"
      ],
      "text/plain": [
       "[1] 1.0576"
      ]
     },
     "metadata": {},
     "output_type": "display_data"
    }
   ],
   "source": [
    "## desviación estándar\n",
    "sd(x)"
   ]
  },
  {
   "cell_type": "code",
   "execution_count": 32,
   "metadata": {
    "collapsed": false
   },
   "outputs": [
    {
     "data": {
      "image/png": "[encoded data removed]",
      "text/plain": [
       "Plot with title “Histogram of x”"
      ]
     },
     "metadata": {},
     "output_type": "display_data"
    }
   ],
   "source": [
    "## histograma\n",
    "options(repr.plot.width=8, repr.plot.height=4)\n",
    "\n",
    "hist(x,\n",
    "     freq = FALSE) # grafica densidad de probabilidad"
   ]
  },
  {
   "cell_type": "markdown",
   "metadata": {},
   "source": [
    "**Aproximación empírica de la función de densidad de probabilidad**. A cada punto de la muestra de datos se le asigna una función unitaria de densidad de probabilidad.\n",
    "\n",
    "<img src=\"images/fda.png\" width=600>\n",
    "\n",
    "Con:\n",
    " \n",
    "* $N$: Número de puntos\n",
    "* $K$: Kernel\n",
    "* $h$: Ancho del kernel\n",
    "\n",
    "Esto se conoce como una estimación no paramétrica de una función de densidad, y se utiliza para con el fin de estimar una función de densidad que no siga una distribución conocida, como la normal, exponencial, log-normal, entre otras. Normalmente se utiliza $h=1$."
   ]
  },
  {
   "cell_type": "code",
   "execution_count": 31,
   "metadata": {
    "collapsed": false
   },
   "outputs": [
    {
     "data": {
      "image/png": "[encoded data removed]",
      "text/plain": [
       "Plot with title “Histogram of x”"
      ]
     },
     "metadata": {},
     "output_type": "display_data"
    }
   ],
   "source": [
    "## Para generar una gráfica de densidad.\n",
    "\n",
    "hist(x,\n",
    "     freq = FALSE)             # grafica densidad de probabilidad\n",
    "\n",
    "d <- density(x)\n",
    "lines(d, col = 'red', lwd = 2) # aproximación empírica a la función de densidad de probabilidad  "
   ]
  },
  {
   "cell_type": "code",
   "execution_count": 34,
   "metadata": {
    "collapsed": false
   },
   "outputs": [
    {
     "data": {
      "image/png": "[encoded data removed]",
      "text/plain": [
       "Plot with title “ecdf(x)”"
      ]
     },
     "metadata": {},
     "output_type": "display_data"
    }
   ],
   "source": [
    "## función empírica de densidad acumulada\n",
    "plot(ecdf(x)) "
   ]
  },
  {
   "cell_type": "markdown",
   "metadata": {},
   "source": [
    "---"
   ]
  },
  {
   "cell_type": "markdown",
   "metadata": {},
   "source": [
    "**Ejercicio.--** Realice la misma gráfica anterior y adicione la función de densidad acumulada de una distribución estándar."
   ]
  },
  {
   "cell_type": "code",
   "execution_count": null,
   "metadata": {
    "collapsed": true
   },
   "outputs": [],
   "source": []
  },
  {
   "cell_type": "markdown",
   "metadata": {},
   "source": [
    "**Ejercicio.--** Una distribución Chi-cuadrada de $n$ grados de libertad se define como la variable aleatoria:\n",
    "\n",
    "$$ z_1^2+...+z_n^2 = x_n^2$$\n",
    "\n",
    "donde $z_i$ son números aleatorios provenientes de una distribución normal estándar. Realice las siguientes actividades:\n",
    "\n",
    "* Genere 400 números aleatorios $x_i$ con $n = 5$ a partir de la definición anterior.\n",
    "* En la misma figura grafique: (a) el histograma; (b) la distribución empírica; (c) la función de densidad de probabilidad para la distribución teórica chi-cuadrado con 5 grados de libertad."
   ]
  },
  {
   "cell_type": "code",
   "execution_count": null,
   "metadata": {
    "collapsed": true
   },
   "outputs": [],
   "source": []
  },
  {
   "cell_type": "markdown",
   "metadata": {},
   "source": [
    "---"
   ]
  },
  {
   "cell_type": "markdown",
   "metadata": {},
   "source": [
    "# Pruebas de normalidad"
   ]
  },
  {
   "cell_type": "markdown",
   "metadata": {},
   "source": [
    "[Contenido](#Contenido)"
   ]
  },
  {
   "cell_type": "markdown",
   "metadata": {},
   "source": [
    "Un problema típico de series de tiempo consiste en determinar si una muestra de datos proviene de una distribución normal. Para ello, se consideran las siguientes hipótesis:"
   ]
  },
  {
   "cell_type": "markdown",
   "metadata": {},
   "source": [
    "* $H_0:$ Las observaciones ${x_1,…,x_T}$ provienen de una distribución normal con media y varianza desconocidas\n",
    "* $H_a:$ Las observaciones provienen de una distribución arbitraria\n",
    "\n",
    "Metodologías típicas:\n",
    "* Gráfico Cuartil – Cuartil (Q-Q plot)\n",
    "* Gráfico de probabilidad normal\n",
    "* Prueba de Jarque-Bera\n"
   ]
  },
  {
   "cell_type": "markdown",
   "metadata": {},
   "source": [
    "** Gráfica Cuartil-Cuartil (Q-Q plot)** \n",
    "\n",
    "Método gráfico para comparar dos distribuciones.  Si los datos provienen de la misma distribución, forman una línea recta. \n"
   ]
  },
  {
   "cell_type": "code",
   "execution_count": 35,
   "metadata": {
    "collapsed": false
   },
   "outputs": [
    {
     "data": {
      "image/png": "[encoded data removed]",
      "text/plain": [
       "Plot with title “Normal Q-Q Plot”"
      ]
     },
     "metadata": {},
     "output_type": "display_data"
    }
   ],
   "source": [
    "options(repr.plot.width=8, repr.plot.height=4)\n",
    "\n",
    "x <- rnorm(1500, 0,1)\n",
    "qqnorm(x)\n",
    "abline(0,1)"
   ]
  },
  {
   "cell_type": "markdown",
   "metadata": {},
   "source": [
    "**Prueba de normalidad de Jarque-Bera** \n",
    "\n",
    "Se basa en determinar si los datos tienen la misma asimetría $(M_3)$ y curtosis $(M_4)$ de una distribución normal.\n",
    "\n",
    "* $H_0:$ Los datos provienen de una distribución normal\n",
    "* $H_a:$ Los datos no provienen de una distribución normal \n",
    "\n",
    "Esta prueba puede ser engañosa para muestras pequeñas. El rechazo de $H_0$ puede indicar:\n",
    "* La presencia de observaciones atípicas\n",
    "* Que la varianza no es constante\n",
    "* La presencia de comportamiento no lineal (dependencia temporal)\n"
   ]
  },
  {
   "cell_type": "code",
   "execution_count": 36,
   "metadata": {
    "collapsed": false
   },
   "outputs": [
    {
     "ename": "ERROR",
     "evalue": "Error in library(moments): there is no package called ‘moments’\n",
     "output_type": "error",
     "traceback": [
      "Error in library(moments): there is no package called ‘moments’\nTraceback:\n",
      "1. library(moments)",
      "2. stop(txt, domain = NA)"
     ]
    }
   ],
   "source": [
    "## Prueba de normalidad Jarque-Bera\n",
    "library(moments)   # Instale primero la paquete\n",
    "jarque.test(x)"
   ]
  },
  {
   "cell_type": "markdown",
   "metadata": {},
   "source": [
    "**Otras pruebas de normalidad en R** \n"
   ]
  },
  {
   "cell_type": "code",
   "execution_count": 39,
   "metadata": {
    "collapsed": false
   },
   "outputs": [
    {
     "data": {
      "text/plain": [
       "\n",
       "\tShapiro-Wilk normality test\n",
       "\n",
       "data:  x\n",
       "W = 0.99925, p-value = 0.8329\n"
      ]
     },
     "metadata": {},
     "output_type": "display_data"
    }
   ],
   "source": [
    "## Test de Shapiro-Wilks para probar normalidad\n",
    "shapiro.test(x)"
   ]
  },
  {
   "cell_type": "code",
   "execution_count": 40,
   "metadata": {
    "collapsed": false
   },
   "outputs": [
    {
     "ename": "ERROR",
     "evalue": "Error in library(nortest): there is no package called ‘nortest’\n",
     "output_type": "error",
     "traceback": [
      "Error in library(nortest): there is no package called ‘nortest’\nTraceback:\n",
      "1. library(nortest)",
      "2. stop(txt, domain = NA)"
     ]
    }
   ],
   "source": [
    "## Test Anderson-Darling para probar normalidad\n",
    "library(nortest)   # Instale el paquete primero\n",
    "ad.test(x)"
   ]
  },
  {
   "cell_type": "markdown",
   "metadata": {},
   "source": [
    "----"
   ]
  },
  {
   "cell_type": "markdown",
   "metadata": {},
   "source": [
    "**Ejercicio.--** Genere una muestra aleatoria de 1000 datos de la variable $z$, la cual está definida como $z = x + y$ donde $x$ sigue una distribución normal estándar, y $y$ sigue una distribución normal con media = 1 y varianza igual a 0.5. Grafique las distribuciones teórica  y empírica de $y$."
   ]
  },
  {
   "cell_type": "code",
   "execution_count": null,
   "metadata": {
    "collapsed": true
   },
   "outputs": [],
   "source": []
  },
  {
   "cell_type": "markdown",
   "metadata": {},
   "source": [
    "---"
   ]
  },
  {
   "cell_type": "markdown",
   "metadata": {},
   "source": [
    "# Teorema del Límite Central "
   ]
  },
  {
   "cell_type": "markdown",
   "metadata": {},
   "source": [
    "[Contenido](#Contenido)"
   ]
  },
  {
   "cell_type": "markdown",
   "metadata": {},
   "source": [
    "Sea ${x_i}$ para ${i=1,…,n}$ una muestra aleatoria $i.i.d.$ con media $μ$ y varianza $σ^2$. Para $n→\\infty$ la variable ${S_n=}$ $\\frac{1}{n}$ $\\sum_{i=1}^{n}x_{i} $, se aproxima a una distribución normal con media $μ$ y varianza $\\frac{σ^2}{n}$\n",
    "\n",
    "\n",
    "\n"
   ]
  },
  {
   "cell_type": "markdown",
   "metadata": {},
   "source": [
    "---"
   ]
  },
  {
   "cell_type": "markdown",
   "metadata": {},
   "source": [
    "**Ejercicio.--** Genere varias muestras de 300 datos provenientes de una distribución uniforme, y para cada una de ellas calcule la media. Muestre graficamente que la distribución de las medias sigue una distribución normal (grafique la distribución empírica y teórica usando las técnicas ilustradas anteriormente). "
   ]
  },
  {
   "cell_type": "code",
   "execution_count": null,
   "metadata": {
    "collapsed": true
   },
   "outputs": [],
   "source": []
  },
  {
   "cell_type": "markdown",
   "metadata": {},
   "source": [
    "---"
   ]
  },
  {
   "cell_type": "markdown",
   "metadata": {},
   "source": [
    "**Ejercicio.--** Juedo de dados 7-11 o dados callejeros.\n",
    "\n",
    "* El jugador tira los dados por primera vez:\n",
    "  * Si saca 7 o 11 gana la apuesta inmediatamente.\n",
    "  * Si saca 2, 3 o 12 pierde la apuesta inmediatamente.\n",
    "  * Si saca 4, 5, 6, 8, 9, 10 sigue tirando los dados.\n",
    "* El jugador sigue tirando hasta que:\n",
    "  * Saca 7 en cuyo caso pierde.\n",
    "  * Saque la misma cantidad de la primera tirada, en cuyo caso gana.\n",
    "  \n",
    "En cada juego se apuesta 1 y se cuenta con un capital inicial de 20. El jugador se retira si alcanza un capital de 50.\n",
    "\n",
    "Cuál es la probablidad de quiebra?"
   ]
  },
  {
   "cell_type": "code",
   "execution_count": null,
   "metadata": {
    "collapsed": true
   },
   "outputs": [],
   "source": []
  },
  {
   "cell_type": "markdown",
   "metadata": {},
   "source": [
    "---"
   ]
  },
  {
   "cell_type": "markdown",
   "metadata": {},
   "source": [
    "# Bootstrap"
   ]
  },
  {
   "cell_type": "markdown",
   "metadata": {},
   "source": [
    "[Contenido](#Contenido)"
   ]
  },
  {
   "cell_type": "markdown",
   "metadata": {},
   "source": [
    "El bootstrap es una técnica numérica para estimar la distribución de probabilidades de cualquier estadístico calculado sobre una muestra de datos y tiene muchas aplicaciones en modelado predictivo y pronóstico de series de tiempo."
   ]
  },
  {
   "cell_type": "markdown",
   "metadata": {},
   "source": [
    "Sea una secuencia $\\{x_i; i = 1, ...,n\\}$ proveniente de una distribución poblacional $F$ desconocida con media $\\mu$ y varianza $\\sigma^2$. Esto es:\n",
    "\n",
    "$$ F \\to (x_1, ...,x_n)$$"
   ]
  },
  {
   "cell_type": "markdown",
   "metadata": {},
   "source": [
    "* $F$ es aproximada a través de la distribución empírica de los datos $G$."
   ]
  },
  {
   "cell_type": "markdown",
   "metadata": {},
   "source": [
    "* El parámetro $\\theta$ es una función $𝑡(∙)$ de la distribución de probabilidades de la población $𝐹: 𝜃 = 𝑡(𝐹)$"
   ]
  },
  {
   "cell_type": "markdown",
   "metadata": {},
   "source": [
    "* $\\theta$ se aproxima a partir de la distribución empírica de probabilidad de los datos: $\\theta = 𝑡(𝐹)$."
   ]
  },
  {
   "cell_type": "markdown",
   "metadata": {},
   "source": [
    "* Muestra bootstrap: Sea G la distribución empírica de los datos que coloca una probabilidad de $1/n$ en el dato $𝑥_i, ~𝑖=1,...,𝑛$.Una muestra bootstrap se define como una muestra aleatoria de tamaño $𝑛$ obtenida de $G$:\n",
    "\n",
    "$$𝑥^∗ = ( 𝑥_1^∗, 𝑥_2^∗, ..., 𝑥_n^*)$$\n",
    "\n",
    "por ejemplo, $𝑥_1^∗ = 𝑥_3, 𝑥_2^∗= 𝑥_1, 𝑥_3^∗ = 𝑥_3, ...$"
   ]
  },
  {
   "cell_type": "markdown",
   "metadata": {},
   "source": [
    "**Algoritmo bootstrap no paramétrico**"
   ]
  },
  {
   "cell_type": "markdown",
   "metadata": {},
   "source": [
    "* Se tiene la muestra $x=\\{x_i; 1,...,n\\}$"
   ]
  },
  {
   "cell_type": "markdown",
   "metadata": {},
   "source": [
    "* Se seleccionan $B$ muestras bootstrap independientes $x^{*1}, ..., x^{*B}$ cada una de $n$ elementos obtenidos de la muestra original."
   ]
  },
  {
   "cell_type": "markdown",
   "metadata": {},
   "source": [
    "* Para cada muestra bootstap se calcula el estadístico de interes: $\\theta(b) = t(x^{*b})$"
   ]
  },
  {
   "cell_type": "markdown",
   "metadata": {},
   "source": [
    "* La muestra $\\theta(1), ..., \\theta(B)$ representa la distribución de probabilidades de $\\theta$ y puede calcularsele valor esperado, desviación estándar, etc."
   ]
  },
  {
   "cell_type": "markdown",
   "metadata": {},
   "source": [
    "**Ejemplo**"
   ]
  },
  {
   "cell_type": "code",
   "execution_count": 1,
   "metadata": {
    "collapsed": true
   },
   "outputs": [],
   "source": [
    "## sea la muestra de datos para la cual se desea obtener \n",
    "## la distribución de probabilidades de la media\n",
    "x <- c(1, 4, 5, 3, 8, 4, 3, 2, 1, 0, 2, 4, 7)"
   ]
  },
  {
   "cell_type": "code",
   "execution_count": 4,
   "metadata": {
    "collapsed": false
   },
   "outputs": [
    {
     "name": "stdout",
     "output_type": "stream",
     "text": [
      "3.384615 0.4171598"
     ]
    }
   ],
   "source": [
    "## por el teorema del límite central:\n",
    "## la media de los datos sigue una distribución \n",
    "## normal con media m y varianza = s2 / n\n",
    "n <- length(x)     # cantidad de datos\n",
    "m <- mean(x)       # media muestral\n",
    "s2 <- var(x) / n   # varianza muestral\n",
    "cat(m, s2)"
   ]
  },
  {
   "cell_type": "code",
   "execution_count": 7,
   "metadata": {
    "collapsed": false
   },
   "outputs": [
    {
     "name": "stdout",
     "output_type": "stream",
     "text": [
      "3.401154 0.4147886"
     ]
    }
   ],
   "source": [
    "## el mismo calculo usando bootstrap\n",
    "B <- 200       # cantidad de replicas bootstrap\n",
    "y = rep(0, B)  # muestra bootstrap\n",
    "\n",
    "for(i in 1:B) {\n",
    "    z <- sample(x,              # muestra original\n",
    "                size = n,       # tamaño de la muestra bootstrap\n",
    "                replace = TRUE) # se pueden repetir valores de la muestra original\n",
    "    \n",
    "    y[i] <- mean(z)             # replica bootstrap del estadístico\n",
    "}\n",
    "\n",
    "m_bootstrap   <- mean(y)        # valor esperado de la muestra bootstrap\n",
    "s2_bootstrap  <- var(y)         # varianza de la muestra bootstrap\n",
    "\n",
    "cat(m_bootstrap, s2_bootstrap)"
   ]
  },
  {
   "cell_type": "markdown",
   "metadata": {},
   "source": [
    "---\n"
   ]
  },
  {
   "cell_type": "markdown",
   "metadata": {},
   "source": [
    "**Ejercicio.--** El paquete `boot` que implementa la metodología de bootstraping. Uselo para repetir los cálculos anteriores. "
   ]
  },
  {
   "cell_type": "code",
   "execution_count": null,
   "metadata": {
    "collapsed": true
   },
   "outputs": [],
   "source": []
  },
  {
   "cell_type": "markdown",
   "metadata": {},
   "source": [
    "---"
   ]
  },
  {
   "cell_type": "markdown",
   "metadata": {},
   "source": [
    "[Contenido](#Contenido)"
   ]
  }
 ],
 "metadata": {
  "anaconda-cloud": {},
  "kernelspec": {
   "display_name": "R",
   "language": "R",
   "name": "ir"
  },
  "language_info": {
   "codemirror_mode": "r",
   "file_extension": ".r",
   "mimetype": "text/x-r-source",
   "name": "R",
   "pygments_lexer": "r",
   "version": "3.3.1"
  }
 },
 "nbformat": 4,
 "nbformat_minor": 0
}
